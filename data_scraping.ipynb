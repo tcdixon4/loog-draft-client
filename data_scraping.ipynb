{
 "cells": [
  {
   "cell_type": "code",
   "execution_count": 2,
   "metadata": {
    "collapsed": false
   },
   "outputs": [],
   "source": [
    "from requests import get\n",
    "from requests.exceptions import RequestException\n",
    "from contextlib import closing\n",
    "from bs4 import BeautifulSoup\n",
    "from selenium import webdriver\n",
    "import pandas as pd"
   ]
  },
  {
   "cell_type": "code",
   "execution_count": 3,
   "metadata": {
    "collapsed": true
   },
   "outputs": [],
   "source": [
    "def simple_get(url):\n",
    "    \"\"\"\n",
    "    Attempts to get the content at `url` by making an HTTP GET request.\n",
    "    If the content-type of response is some kind of HTML/XML, return the\n",
    "    text content, otherwise return None\n",
    "    \"\"\"\n",
    "    try:\n",
    "        with closing(get(url, stream=True)) as resp:\n",
    "            if is_good_response(resp):\n",
    "                return resp.content\n",
    "            else:\n",
    "                return None\n",
    "\n",
    "    except RequestException as e:\n",
    "        log_error('Error during requests to {0} : {1}'.format(url, str(e)))\n",
    "        return None\n",
    "\n",
    "\n",
    "def is_good_response(resp):\n",
    "    \"\"\"\n",
    "    Returns true if the response seems to be HTML, false otherwise\n",
    "    \"\"\"\n",
    "    content_type = resp.headers['Content-Type'].lower()\n",
    "    return (resp.status_code == 200 \n",
    "            and content_type is not None \n",
    "            and content_type.find('html') > -1)\n",
    "\n",
    "\n",
    "def log_error(e):\n",
    "    \"\"\"\n",
    "    It is always a good idea to log errors. \n",
    "    This function just prints them, but you can\n",
    "    make it do anything.\n",
    "    \"\"\"\n",
    "    print(e)"
   ]
  },
  {
   "cell_type": "code",
   "execution_count": 4,
   "metadata": {
    "collapsed": true
   },
   "outputs": [],
   "source": [
    "def query_team(team_name):\n",
    "    \"\"\"\n",
    "    I made this and then forgot what it was supposed to do... will\n",
    "    return to fix it\n",
    "    \"\"\""
   ]
  },
  {
   "cell_type": "code",
   "execution_count": 8,
   "metadata": {
    "collapsed": false
   },
   "outputs": [],
   "source": [
    "class team():\n",
    "    \"\"\"\n",
    "    A class representing the team roster. Includes functions for adding \n",
    "    players from a pandas dataframe.\n",
    "    \"\"\"\n",
    "    \n",
    "    #Initialize all positions to 'None' unless defined at the start.\n",
    "    def __init__(self, qb=None, rb=None, wr=None, te=None, d=None, k=None,\n",
    "                picks=None):\n",
    "        self.qb = qb\n",
    "        self.rb = rb\n",
    "        self.wr = wr\n",
    "        self.te = te\n",
    "        self.d = d\n",
    "        self.k = k\n",
    "        self.picks = picks\n",
    "    \n",
    "    #Check if a player is available, then add to roster. Used during draft.\n",
    "    def add_player(self, player_name):\n",
    "        pass\n",
    "        \n",
    "        "
   ]
  },
  {
   "cell_type": "code",
   "execution_count": 9,
   "metadata": {
    "collapsed": false
   },
   "outputs": [
    {
     "name": "stdout",
     "output_type": "stream",
     "text": [
      "blah\n"
     ]
    }
   ],
   "source": [
    "if team().qb is None:\n",
    "    print('blah')"
   ]
  },
  {
   "cell_type": "code",
   "execution_count": 5,
   "metadata": {
    "collapsed": false
   },
   "outputs": [
    {
     "name": "stdout",
     "output_type": "stream",
     "text": [
      "<!DOCTYPE html>\n",
      "<html style=\"overflow: hidden;\" xmlns=\"http://www.w3.org/1999/xhtml\">\n",
      " <head>\n",
      "  <meta content=\"text/html; charset=utf-8\" http-equiv=\"Content-Type\"/>\n",
      "  <meta content=\"width=device-width\" name=\"viewport\"/>\n",
      "  <title>\n",
      "   Log In\n",
      "  </title>\n",
      "  <style>\n",
      "   body { font-family:sans-serif; }\n",
      "nav { user-select:none; -webkit-user-select:none; -moz-user-select:none; -ms-user-select:none; }\n",
      "dt { font-weight:bold; }\n",
      "  </style>\n",
      "  <style id=\"disneyid-style\" type=\"text/css\">\n",
      "   div#disneyid-wrapper{position:absolute;display:none;opacity:0;top:0;left:0;width:100%;height:100%;}div#disneyid-wrapper.state-active {z-index: 9999999;opacity:1;transition:opacity 300ms;-webkit-transition:opacity 300ms;}iframe#disneyid-iframe{width:100%;height:100%;}\n",
      "  </style>\n",
      " </head>\n",
      " <body style=\"overflow: hidden;\">\n",
      "  <nav>\n",
      "  </nav>\n",
      "  <dl>\n",
      "  </dl>\n",
      "  <script src=\"https://cdn.registerdisney.go.com/v2/outer/DisneyID.js\">\n",
      "  </script>\n",
      "  <script>\n",
      "   var info = /[?&amp;](info|debug)(?:=|&amp;|$)/.test(location.search);\n",
      "function log(dt, dd) {\n",
      "\tconsole.log(dt, dd);\n",
      "\tif (info) {\n",
      "\t\tvar newMarkup = '&lt;dt&gt;'+dt+'&lt;/dt&gt;';\n",
      "\t\tif (dd !== undefined) {\n",
      "\t\t\tnewMarkup += '&lt;dd&gt;'+JSON.stringify(dd).replace(/,\"/g,', \"')+'&lt;/dd&gt;';\n",
      "\t\t}\n",
      "\t\tdocument.querySelector('dl').innerHTML += newMarkup;\n",
      "\t}\n",
      "}\n",
      "function logCallback(dt) {\n",
      "\treturn function(dd) {\n",
      "\t\tlog(dt, dd);\n",
      "\t};\n",
      "}\n",
      "function S2() {\n",
      "\treturn (/(?:^| )espn_s2=([^;]+)/.exec(document.cookie)||[])[1] || null;\n",
      "}\n",
      "function mailto() {\n",
      "\tvar body = document.querySelector('dl').innerHTML.replace(/&lt;dt&gt;/g,'').replace(/&lt;dd&gt;/g,'\\t').replace(/&lt;\\/d[td]&gt;/g,'\\n');\n",
      "\tlocation.assign('mailto:?to=&amp;subject=Log%20In%20Info&amp;body='+encodeURIComponent(body));\n",
      "}\n",
      "function redirect() {\n",
      "\tif (info) return;\n",
      "\tvar URL = (/[?&amp;](?:returnURL|referer|redirect|appRedirect)=(http.+)(?:$|&amp;)/.exec(location.search)||[])[1];\n",
      "\twindow.setTimeout(function(){\n",
      "\t\tlocation.assign(URL&amp;&amp;decodeURIComponent(URL) || document.referrer || 'http://www.espn.com');\n",
      "\t}, 200);\n",
      "}\n",
      "function launchLoginReauth() {\n",
      "\tdid.getLoggedInStatus()\n",
      "\t.then(function(loggedInStatus){\n",
      "\t\tif (loggedInStatus) {\n",
      "\t\t\tlog('launchReauth()');\n",
      "\t\t\tdid.launchReauth()\n",
      "\t\t\t.catch(logCallback('launchReauth() rejected'));\n",
      "\t\t\tdid.getGuest()\n",
      "\t\t\t.catch(function(){\n",
      "\t\t\t\tlog('Attempting forceTokenRefresh()');\n",
      "\t\t\t\tdid.forceTokenRefresh()\n",
      "\t\t\t\t.then(function(){\n",
      "\t\t\t\t\tlog('Retrying launchReauth()');\n",
      "\t\t\t\t\tdid.launchReauth();\n",
      "\t\t\t\t});\n",
      "\t\t\t});\n",
      "\t\t} else {\n",
      "\t\t\tlog('launchLogin()');\n",
      "\t\t\tdid.launchLogin()\n",
      "\t\t\t.catch(logCallback('launchLogin() rejected'));\n",
      "\t\t}\n",
      "\t});\n",
      "}\n",
      "window.onerror = function(msg) {\n",
      "   log('JavaScript Error', msg);\n",
      "};\n",
      "var did = DisneyID.get({\n",
      "\tclientId: (/[?&amp;]clientId=ESPN/).test(location.search) ? location.search.match(/[?&amp;]clientId=([^&amp;=]+)/)[1] : 'ESPN-ONESITE.WEB',\n",
      "\tcssOverride: 'https://secure.espncdn.com/combiner/c?css=disneyid/core.css',\n",
      "\tresponderPage: 'https://'+location.hostname+'/login/responder/',\n",
      "\tmigrationResponderPage: 'https://gone.espn.go.com/login/responder/',\n",
      "\tlogLevel: 'LOG',\n",
      "\tinitialize: true\n",
      "});\n",
      "if (/\\.go\\.com$/.test(location.hostname)) {\n",
      "\tdid.migrationResponderPage = null;\n",
      "}\n",
      "['init','login','close','create','logout','refresh','update','low-trust','opt-in','reauth','primary-account','error'].forEach(function(e) {\n",
      "\tdid.on(e, logCallback(e));\n",
      "});\n",
      "did.on('reauth', redirect);\n",
      "did.on('login', redirect);\n",
      "did.on('close', redirect);\n",
      "did.on('init', function(){\n",
      "\tif (/[?&amp;]logout(?:=|&amp;|$)/.test(location.search)) {\n",
      "\t\tlog('Attempting logout()');\n",
      "\t\tdid.logout()\n",
      "\t\t.then(redirect, redirect);\n",
      "\t} else if (info) {\n",
      "\t\tlog('S2 Cookie', S2());\n",
      "\t\tdid.getLoggedInStatus()\n",
      "\t\t.then(function(loggedInStatus){\n",
      "\t\t\tlog('getLoggedInStatus()', loggedInStatus);\n",
      "\t\t\tif (loggedInStatus) {\n",
      "\t\t\t\tdid.getTrustStateStatus()\n",
      "\t\t\t\t.then(logCallback('getTrustStateStatus()'))\n",
      "\t\t\t\t.catch(logCallback('getTrustStateStatus() rejected'));\n",
      "\t\t\t\tdid.getGuest()\n",
      "\t\t\t\t.then(logCallback('getGuest()'))\n",
      "\t\t\t\t.catch(logCallback('getGuest() rejected'));\n",
      "\t\t\t}\n",
      "\t\t})\n",
      "\t\t.catch(logCallback('getLoggedInStatus() rejected'));\n",
      "\t} else {\n",
      "\t\tlaunchLoginReauth();\n",
      "\t}\n",
      "});\n",
      "if (info) {\n",
      "\tlog(new Date());\n",
      "\tlog(navigator.userAgent);\n",
      "\tlog('S2 Cookie', S2());\n",
      "\tdocument.querySelector('nav').innerHTML = '&lt;button onclick=launchLoginReauth()&gt;Log In&lt;/button&gt;&lt;button onclick=mailto()&gt;Send Email&lt;/button&gt;';\n",
      "}\n",
      "  </script>\n",
      "  <div id=\"disneyid-wrapper\">\n",
      "   <iframe frameborder=\"0\" id=\"disneyid-iframe\" name=\"disneyid-iframe\" src=\"https://cdn.registerdisney.go.com/v2/ESPN-ONESITE.WEB-PROD/en-US?include=config,l10n,js,html&amp;scheme=http&amp;postMessageOrigin=http%3A%2F%2Fwww.espn.com%2Flogin%2F&amp;cookieDomain=www.espn.com&amp;config=PROD&amp;logLevel=LOG&amp;topHost=www.espn.com&amp;cssOverride=https%3A%2F%2Fsecure.espncdn.com%2Fcombiner%2Fc%3Fcss%3Ddisneyid%2Fcore.css&amp;responderPage=https%3A%2F%2Fwww.espn.com%2Flogin%2Fresponder%2F&amp;buildId=1612fedfc35\" title=\"Account Dialog\">\n",
      "   </iframe>\n",
      "  </div>\n",
      "  <iframe id=\"disneyid-secure-responder\" name=\"disneyid-secure-responder\" src=\"https://www.espn.com/login/responder/?clientId=ESPN-ONESITE.WEB-PROD&amp;scheme=http&amp;postMessageOrigin=http%3A%2F%2Fwww.espn.com%2Flogin%2F&amp;cookieDomain=www.espn.com&amp;config=PROD&amp;logLevel=LOG&amp;topHost=www.espn.com&amp;langPref=en-US&amp;cssOverride=https%3A%2F%2Fsecure.espncdn.com%2Fcombiner%2Fc%3Fcss%3Ddisneyid%2Fcore.css&amp;responderPage=https%3A%2F%2Fwww.espn.com%2Flogin%2Fresponder%2F&amp;buildId=1612fedfc35\" style=\"display: none;\">\n",
      "  </iframe>\n",
      "  <iframe id=\"disneyid-secure-migration-responder\" name=\"disneyid-secure-migration-responder\" src=\"https://gone.espn.go.com/login/responder/?clientId=ESPN-ONESITE.WEB-PROD&amp;scheme=http&amp;postMessageOrigin=http%3A%2F%2Fwww.espn.com%2Flogin%2F&amp;cookieDomain=www.espn.com&amp;config=PROD&amp;logLevel=LOG&amp;topHost=www.espn.com&amp;langPref=en-US&amp;cssOverride=https%3A%2F%2Fsecure.espncdn.com%2Fcombiner%2Fc%3Fcss%3Ddisneyid%2Fcore.css&amp;responderPage=https%3A%2F%2Fwww.espn.com%2Flogin%2Fresponder%2F&amp;buildId=1612fedfc35&amp;espn-migration=true\" style=\"display: none;\">\n",
      "  </iframe>\n",
      " </body>\n",
      "</html>\n"
     ]
    }
   ],
   "source": [
    "driver = webdriver.Chrome('C:\\ChromeDriver\\chromedriver.exe')\n",
    "driver.get('http://www.espn.com/login/')\n",
    "raw_html = driver.page_source\n",
    "# raw_html\n",
    "html = BeautifulSoup(raw_html, 'html.parser')\n",
    "print(html.prettify())\n",
    "# table = html.find_all('table')[0]\n",
    "# html.find_all('input')\n",
    "# table\n",
    "# print(table.find_all('table')[0])\n",
    "# new_table = pd.DataFrame(columns=range(0,14), index=range(0,44))\n",
    "\n",
    "# row_marker = -1\n",
    "# for row in table.find_all('tr'):\n",
    "#     row_marker += 1\n",
    "#     row_marker\n",
    "#     column_marker = 0\n",
    "#     columns = row.find_all('td')\n",
    "#     for column in columns:\n",
    "#         new_table.iat[row_marker,column_marker] = column.get_text()\n",
    "#         column_marker += 1\n",
    "\n",
    "# # pd.DataFrame(columns=range(0,2), index = [0])\n",
    "\n",
    "# new_table"
   ]
  },
  {
   "cell_type": "code",
   "execution_count": 15,
   "metadata": {
    "collapsed": false
   },
   "outputs": [],
   "source": [
    "driver.get('http://games.espn.com/ffl/clubhouse?leagueId=2205911&teamId=6&seasonId=2017')"
   ]
  },
  {
   "cell_type": "code",
   "execution_count": 1,
   "metadata": {
    "collapsed": false
   },
   "outputs": [],
   "source": [
    "# # Fill in your details here to be posted to the login form.\n",
    "# payload = {\n",
    "#     'inUserName': 'username',\n",
    "#     'inUserPass': 'password'\n",
    "# }\n",
    "\n",
    "# # Use 'with' to ensure the session context is closed after use.\n",
    "# with requests.Session() as s:\n",
    "#     p = s.post('LOGIN_URL', data=payload)\n",
    "#     # print the html returned or something more intelligent to see if it's a successful login page.\n",
    "#     print p.text\n",
    "\n",
    "#     # An authorised request.\n",
    "#     r = s.get('A protected web page url')\n",
    "#     print r.text\n",
    "#         # etc..."
   ]
  },
  {
   "cell_type": "code",
   "execution_count": 48,
   "metadata": {
    "collapsed": false
   },
   "outputs": [
    {
     "name": "stdout",
     "output_type": "stream",
     "text": [
      "None\n"
     ]
    }
   ],
   "source": [
    "print(subtable)"
   ]
  },
  {
   "cell_type": "code",
   "execution_count": null,
   "metadata": {
    "collapsed": false
   },
   "outputs": [],
   "source": []
  }
 ],
 "metadata": {
  "kernelspec": {
   "display_name": "Python 3",
   "language": "python",
   "name": "python3"
  },
  "language_info": {
   "codemirror_mode": {
    "name": "ipython",
    "version": 3
   },
   "file_extension": ".py",
   "mimetype": "text/x-python",
   "name": "python",
   "nbconvert_exporter": "python",
   "pygments_lexer": "ipython3",
   "version": "3.6.0"
  }
 },
 "nbformat": 4,
 "nbformat_minor": 2
}
