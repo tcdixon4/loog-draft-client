{
 "cells": [
  {
   "cell_type": "code",
   "execution_count": 1,
   "metadata": {
    "collapsed": false
   },
   "outputs": [],
   "source": [
    "# from requests import get\n",
    "# from requests.exceptions import RequestException\n",
    "# from contextlib import closing\n",
    "import numpy as np\n",
    "import pandas as pd\n",
    "import re\n",
    "import time\n",
    "from bs4 import BeautifulSoup\n",
    "from selenium import webdriver\n",
    "from selenium.webdriver.common.by import By\n",
    "from selenium.webdriver.support.ui import Select, WebDriverWait\n",
    "from selenium.webdriver.support import expected_conditions as EC\n"
   ]
  },
  {
   "cell_type": "code",
   "execution_count": 2,
   "metadata": {
    "collapsed": true
   },
   "outputs": [],
   "source": [
    "def espn_login(driver=None):  # Likely return to this to put it in another file\n",
    "    '''If there is no active WebDriver session, open one and request ESPN \n",
    "    login.  Wait until login has been registered before advancing.\n",
    "    Args:\n",
    "        driver: selenium WebDriver instance, logged in OR out of ESPN\n",
    "    Return:\n",
    "        driver: selenium WebDriver instance, logged in to ESPN\n",
    "\n",
    "    '''\n",
    "    if not driver:\n",
    "        driver = webdriver.Chrome('C:\\ChromeDriver\\chromedriver.exe')\n",
    "    driver.get('http://www.espn.com/login/')\n",
    "    logged_in = False\n",
    "    while not logged_in:\n",
    "        innerHTML = driver.execute_script(\n",
    "            \"return document.getElementsByTagName('html')[0].innerHTML\")\n",
    "        html = BeautifulSoup(innerHTML, 'html.parser')\n",
    "        logged_in = not html.find_all('title')[0].get_text()=='Log In'\n",
    "    return driver"
   ]
  },
  {
   "cell_type": "code",
   "execution_count": 3,
   "metadata": {
    "collapsed": false
   },
   "outputs": [],
   "source": [
    "def update_player_df(driver=None):\n",
    "    ''' This function creates a pandas DataFrame where each row represents\n",
    "    a single player with fields {name, pos, team, owner, keeper_val}.  It is\n",
    "    meant to be run once per off-season, after the full player list for the\n",
    "    upcoming draft has been updated on ESPN.  The field keeper_val initializes\n",
    "    to NaN for all players, and must be modified manually or using the\n",
    "    update_keeper_val function from this module afterwards.\n",
    "    Args:\n",
    "        driver: selenium WebDriver instance (optional), logged in OR out of ESPN\n",
    "    Return:\n",
    "        player_df: pandas DataFrame (n x 5) containing updated list of players \n",
    "                   for upcoming draft, but incomplete keeper_val field\n",
    "    '''\n",
    "\n",
    "    driver = espn_login(driver)\n",
    "    driver.implicitly_wait(5)\n",
    "\n",
    "    ''' Initialize an empty DataFrame, navigate to the player page, and begin to\n",
    "    fill it.  Players will be added to the larger player_df DataFrame in chunks,\n",
    "    with each chunk containing all the players on a single page. \n",
    "    '''\n",
    "    player_df = pd.DataFrame(columns=['name', 'pos', 'team', 'owner', \n",
    "                                      'keeper_val'])\n",
    "    driver.get('http://games.espn.com/ffl/freeagency?leagueId=2205911&teamId='\n",
    "               '6&seasonId=2017#&seasonId=2017&avail=-1')\n",
    "    last_player_logged = []\n",
    "    while True:\n",
    "        ''' Check to see if the page has loaded by testing if the last player\n",
    "        on the page is the same as the last one logged on the previous page.\n",
    "        '''\n",
    "        waiting_to_load = True\n",
    "        while waiting_to_load:          \n",
    "            innerHTML = driver.execute_script(\n",
    "                \"return document.getElementsByTagName('html')[0].innerHTML\")\n",
    "            html = BeautifulSoup(innerHTML, 'html.parser')\n",
    "            player_table = html.find(id='playertable_0')\n",
    "            last_player_loaded = player_table.find_all('tr')[-1]\n",
    "            last_player_loaded = last_player_loaded.find_all('td')[0].get_text()\n",
    "            if last_player_logged != last_player_loaded:\n",
    "                waiting_to_load = False\n",
    "\n",
    "        ''' Fill the df_chunk DataFrame for the current page by iterating over\n",
    "        every row and parsing the player data.\n",
    "        '''\n",
    "        players_on_page = len(player_table.find_all('tr'))-2   \n",
    "        df_chunk = pd.DataFrame(\n",
    "            columns=['name', 'pos', 'team', 'owner', 'keeper_val'], \n",
    "            index=range(0,players_on_page))\n",
    "        row_marker = -1\n",
    "        for row in player_table.find_all('tr')[2:]:\n",
    "            row_marker += 1\n",
    "            last_player_logged = row.find_all('td')[0].get_text()\n",
    "            name_team_pos = re.split(', |\\xa0', last_player_logged)\n",
    "            if len(name_team_pos)==2:  # This applies only to d/st entries\n",
    "                team_name = re.split(' ', name_team_pos[0])[0]\n",
    "                name_team_pos = [name_team_pos[0], team_name, name_team_pos[1]]\n",
    "            df_chunk.iat[row_marker, 0] = name_team_pos[0]\n",
    "            df_chunk.iat[row_marker, 1] = name_team_pos[1]\n",
    "            df_chunk.iat[row_marker, 2] = name_team_pos[2]\n",
    "            df_chunk.iat[row_marker, 3] = row.find_all('td')[2].get_text()  \n",
    "        player_df = player_df.append(df_chunk)\n",
    "        ''' If another page becomes available within 3 seconds, click it to\n",
    "        advance.  Otherwise, assume the final page has been reached, complete \n",
    "        the process, and exit the while loop.\n",
    "        '''\n",
    "        try:\n",
    "            remaining_page = WebDriverWait(driver, 3).until(\n",
    "            \tEC.element_to_be_clickable((By.PARTIAL_LINK_TEXT, 'NEXT')))\n",
    "            remaining_page.click()\n",
    "        except:\n",
    "            print('scraping complete')\n",
    "            break\n",
    "\n",
    "    ''' Fix the indices on the player_df DataFrame to match the number of the\n",
    "    row, since each chunk was originally indexed separately.  Finally, return \n",
    "    the result.\n",
    "    '''\n",
    "    player_df = player_df.set_index(np.arange(len(player_df)))\n",
    "    return(player_df)"
   ]
  },
  {
   "cell_type": "code",
   "execution_count": null,
   "metadata": {
    "collapsed": true
   },
   "outputs": [],
   "source": [
    "def update_keeper_val(driver=None, prev_player_df=None, player_df=None):\n",
    "    ''' This function updates the keeper_val field for all players of a \n",
    "    player_df DataFrame that has recently been created using the \n",
    "    update_player_df function.\n",
    "    Args:\n",
    "        driver: selenium WebDriver instance (optional), logged in OR out of ESPN\n",
    "        prev_player_df: pandas DataFrame containing previous season's keeper_val\n",
    "                        data\n",
    "        player_df: pandas DataFrame containing updated list of players for\n",
    "                   upcoming draft, but incomplete keeper_val field\n",
    "    Returns:\n",
    "        player_df: pandas DataFrame containing updated list of players for\n",
    "                   upcoming draft, with complete keeper_val field\n",
    "    '''\n",
    "\n",
    "    driver = espn_login(driver)\n",
    "    driver.implicitly_wait(5)\n",
    "\n",
    "    '''Navigate to the transactions page and change the date range to include \n",
    "    the full transaction history.\n",
    "    '''\n",
    "    driver.get('http://games.espn.com/ffl/recentactivity?leagueId=2205911&'\n",
    "               'activityType=2')\n",
    "    innerHTML = driver.execute_script(\n",
    "        \"return document.getElementsByTagName('html')[0].innerHTML\")\n",
    "    html = BeautifulSoup(innerHTML, 'html.parser')\n",
    "    ''' Log the oldest transaction on the page so that you can check whether the\n",
    "    form submission for including full transactions has finished loading.\n",
    "    '''\n",
    "    check_element_prev = html.find_all('tr')[-1].get_text()\n",
    "    check_element_cur = check_element_prev\n",
    "    startDate = Select(driver.find_element_by_name('startDate'))\n",
    "    startDate.select_by_index(0)\n",
    "    driver.find_element_by_name('startDate').submit()\n",
    "    while check_element_prev == check_element_cur:\n",
    "        innerHTML = driver.execute_script(\n",
    "            \"return document.getElementsByTagName('html')[0].innerHTML\")\n",
    "        html = BeautifulSoup(innerHTML, 'html.parser')\n",
    "        check_element_prev = html.find_all('tr')[-1].get_text()\n",
    "\n",
    "    ''' Iterate over all of the currently owned players and assign their\n",
    "    keeper_val keeper values in the player_df DataFrame according to league \n",
    "    rules.\n",
    "    '''\n",
    "    for ind, player in player_df.loc[player_df['owner'] != 'FA'].iterrows():\n",
    "        try:\n",
    "            trans_index = 0\n",
    "            while True:\n",
    "                trans_text = html(text=player['name']\n",
    "                    )[trans_index].find_parents('td')[0].get_text()\n",
    "                if not 'traded' in trans_text:\n",
    "                    player_df.loc[ind]['keeper_val'] = 7\n",
    "                    break\n",
    "                else:\n",
    "                    trans_index += 1\n",
    "        except IndexError:\n",
    "            draft_row = html(text=player['name'])[0].find_parents('tr')[0]\n",
    "            round_header = draft_row.find_previous_siblings('tr')[-1]\n",
    "            player_df.loc[ind]['keeper_val'] = int(round_header.get_text()[-1])\n",
    "\n",
    "    return(player_df)"
   ]
  },
  {
   "cell_type": "code",
   "execution_count": 2,
   "metadata": {
    "collapsed": true
   },
   "outputs": [],
   "source": [
    "def simple_get(url):\n",
    "    \"\"\"\n",
    "    Attempts to get the content at `url` by making an HTTP GET request.\n",
    "    If the content-type of response is some kind of HTML/XML, return the\n",
    "    text content, otherwise return None\n",
    "    \"\"\"\n",
    "    try:\n",
    "        with closing(get(url, stream=True)) as resp:\n",
    "            if is_good_response(resp):\n",
    "                return resp.content\n",
    "            else:\n",
    "                return None\n",
    "\n",
    "    except RequestException as e:\n",
    "        log_error('Error during requests to {0} : {1}'.format(url, str(e)))\n",
    "        return None\n",
    "\n",
    "\n",
    "def is_good_response(resp):\n",
    "    \"\"\"\n",
    "    Returns true if the response seems to be HTML, false otherwise\n",
    "    \"\"\"\n",
    "    content_type = resp.headers['Content-Type'].lower()\n",
    "    return (resp.status_code == 200 \n",
    "            and content_type is not None \n",
    "            and content_type.find('html') > -1)\n",
    "\n",
    "\n",
    "def log_error(e):\n",
    "    \"\"\"\n",
    "    It is always a good idea to log errors. \n",
    "    This function just prints them, but you can\n",
    "    make it do anything.\n",
    "    \"\"\"\n",
    "    print(e)"
   ]
  },
  {
   "cell_type": "code",
   "execution_count": 196,
   "metadata": {
    "collapsed": true
   },
   "outputs": [],
   "source": [
    "def query_team(team_name):\n",
    "    \"\"\"\n",
    "    I made this and then forgot what it was supposed to do... will\n",
    "    return to fix it\n",
    "    \"\"\""
   ]
  },
  {
   "cell_type": "code",
   "execution_count": 197,
   "metadata": {
    "collapsed": false
   },
   "outputs": [],
   "source": [
    "class team_class():\n",
    "    \"\"\"\n",
    "    A class representing the team roster. Includes functions for adding \n",
    "    players from a pandas dataframe.\n",
    "    \"\"\"\n",
    "    \n",
    "    #Initialize all positions to 'None' unless defined at the start.\n",
    "    def __init__(self, qb=None, rb=None, wr=None, te=None, d=None, k=None,\n",
    "                picks=None):\n",
    "        self.qb = qb\n",
    "        self.rb = rb\n",
    "        self.wr = wr\n",
    "        self.te = te\n",
    "        self.d = d\n",
    "        self.k = k\n",
    "        self.picks = picks\n",
    "    \n",
    "    #Check if a player is available, then add to roster. Used during draft.\n",
    "    def add_player(self, player_name):\n",
    "        pass\n",
    "    \n",
    "class player_class():\n",
    "    \"\"\"\n",
    "    A class representing a single player.\n",
    "    \"\"\"\n",
    "    \n",
    "    #Initialize all positions to 'None' unless defined at the start.\n",
    "    def __init__(self, name=None, team=None, pos=None, owner=None, keeper_val=None):\n",
    "        self.name = name\n",
    "        self.team = team\n",
    "        self.pos = pos\n",
    "        self.owner = owner\n",
    "        self.keeper_val = keeper_val\n",
    "        \n",
    "    def update_keeper_val(self):\n",
    "        pass\n",
    "        \n",
    "        "
   ]
  },
  {
   "cell_type": "code",
   "execution_count": null,
   "metadata": {
    "collapsed": false
   },
   "outputs": [],
   "source": []
  },
  {
   "cell_type": "code",
   "execution_count": null,
   "metadata": {
    "collapsed": false
   },
   "outputs": [],
   "source": []
  },
  {
   "cell_type": "code",
   "execution_count": null,
   "metadata": {
    "collapsed": false
   },
   "outputs": [],
   "source": []
  },
  {
   "cell_type": "code",
   "execution_count": null,
   "metadata": {
    "collapsed": false
   },
   "outputs": [],
   "source": []
  },
  {
   "cell_type": "code",
   "execution_count": null,
   "metadata": {
    "collapsed": true
   },
   "outputs": [],
   "source": []
  },
  {
   "cell_type": "code",
   "execution_count": null,
   "metadata": {
    "collapsed": false
   },
   "outputs": [],
   "source": []
  }
 ],
 "metadata": {
  "kernelspec": {
   "display_name": "Python 3",
   "language": "python",
   "name": "python3"
  },
  "language_info": {
   "codemirror_mode": {
    "name": "ipython",
    "version": 3
   },
   "file_extension": ".py",
   "mimetype": "text/x-python",
   "name": "python",
   "nbconvert_exporter": "python",
   "pygments_lexer": "ipython3",
   "version": "3.6.0"
  }
 },
 "nbformat": 4,
 "nbformat_minor": 2
}
